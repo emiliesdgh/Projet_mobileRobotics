{
 "cells": [
  {
   "cell_type": "markdown",
   "metadata": {},
   "source": [
    "<h1>Basics of Mobile Robotics project<span class=\"tocSkip\"></span></h1>\n",
    "\n",
    "**Group 23 : Diana Bejan, Emilie Grandjean, Garance Boesinger, Juan Martín**"
   ]
  },
  {
   "cell_type": "markdown",
   "metadata": {
    "toc": true
   },
   "source": [
    "<h1>Table of Contents<span class=\"tocSkip\"></span></h1>\n",
    "\n",
    "<div class=\"toc\"><ul class=\"toc-item\">\n",
    "    <li><span><a href=\"#Introduction\" data-toc-modified-id=\">Introduction-1\"><span class=\"toc-item-num\">1&nbsp;&nbsp;</span>Introduction</a></span><ul class=\"toc-item\">\n",
    "        <li><span><a href=\"#Project-description\" data-toc-modified-id=\"Project-description-1.1\"><span class=\"toc-item-num\">1.1&nbsp;&nbsp;</span>Project guidelines</a></span></li>\n",
    "        <li><span><a href=\"#General-implementation-description\" data-toc-modified-id=\"General-implementation-description-1.2\"><span class=\"toc-item-num\">1.2&nbsp;&nbsp;</span>General implementation description</a></span></li>\n",
    "        <li><span><a href=\"#Environment-Setup\" data-toc-modified-id=\"Environment-Setup-1.3\"><span class=\"toc-item-num\">1.3&nbsp;&nbsp;</span>Environment Setup</a></span></li>\n",
    "        <li><span><a href=\"#Libraries-Import\" data-toc-modified-id=\"Libraires-Import-1.4\"><span class=\"toc-item-num\">1.4&nbsp;&nbsp;</span>Libraries Import</a></span></li>\n",
    "        <li><span><a href=\"#Thymio COnnection\" data-toc-modified-id=\"Thymio-Connection-1.5\"><span class=\"toc-item-num\">1.5&nbsp;&nbsp;</span>Thymio Connection</a></span></li>\n",
    "        </ul></li>\n",
    "    <li><span><a href=\"#Description-of-the-modules\" data-toc-modified-id=\"Description-of-the-modules-2\"><span class=\"toc-item-num\">2&nbsp;&nbsp;</span>Description of the Modules</a></span><ul class=\"toc-item\">\n",
    "        <li><span><a href=\"#Vision\" data-toc-modified-id=\"Vision-2.1\"><span class=\"toc-item-num\">2.1&nbsp;&nbsp;</span>Vision</a></span></li>\n",
    "        <li><span><a href=\"#Global-Navigation\" data-toc-modified-id=\"Global-Navigation-2.2\"><span class=\"toc-item-num\">2.2&nbsp;&nbsp;</span>Global Navigation</a></span></li>\n",
    "        <li><span><a href=\"#Local-Navigation\" data-toc-modified-id=\"Local-Navigation-2.3\"><span class=\"toc-item-num\">2.3&nbsp;&nbsp;</span>Local Navigation</a></span></li>\n",
    "        <li><span><a href=\"#Filtering\" data-toc-modified-id=\"Filtering-2.4\"><span class=\"toc-item-num\">2.4&nbsp;&nbsp;</span>Filtering</a></span></li>\n",
    "        <li><span><a href=\"#Motion-Control\" data-toc-modified-id=\"Motion-Control-2.5\"><span class=\"toc-item-num\">2.5&nbsp;&nbsp;</span>Motion Control</a></span></li>\n",
    "        </ul></li>\n",
    "     <li><span><a href=\"#Bonus\" data-toc-modified-id=\"Bonus-3\"><span class=\"toc-item-num\">3&nbsp;&nbsp;</span>Bonus</a></span></li>\n",
    "    <li><span><a href=\"#Code-of-the-overall-project\" data-toc-modified-id=\"Code-of-the-overall-project-4\"><span class=\"toc-item-num\">4&nbsp;&nbsp;</span>Code of the overall project</a></span></li>\n",
    "    <li><span><a href=\"#Conclusion\" data-toc-modified-id=\"Conclusion-5\"><span class=\"toc-item-num\">5&nbsp;&nbsp;</span>Conclusion</a></span>\n",
    "    </li></ul>\n",
    "    \n",
    "</div>"
   ]
  },
  {
   "cell_type": "markdown",
   "metadata": {},
   "source": []
  },
  {
   "cell_type": "markdown",
   "metadata": {},
   "source": [
    "# Introduction\n",
    "\n",
    "## Project description\n",
    "\n",
    "1. **Create an environnment :** Our environment has to contain a set of obstacles that the Thymio avoids through *global navigation*. That is to say, the Thymio should avoid the obstacles without using the sensors to detect them.\n",
    "\n",
    "2. **Find the best path :** The obective is that the Thymio goes from an *arbitrary point* in the map to a *target* that can be placed <u>anywhere</u> in the environment.  These will be changed during the demo to see how the system performs.\n",
    "\n",
    "3. **Motion Control & Position estimation:** We will *control* the robot to help it move along the path. This requires an accurate estimate of the position of the robot which we will have to obtain through *bayesian filtering*.\n",
    "   \n",
    "4. **Avoid Obstacles :** While navigating, the Thymio will have to use *local navigation* to avoid *physical obstacals* that can be put in its path <u>at any point in time</u>. \n",
    "\n"
   ]
  },
  {
   "cell_type": "markdown",
   "metadata": {},
   "source": [
    "## Environment Setup  GARANCE\n",
    "\n",
    "environment : the static obstacles have to be in 2D (it will be easier to detect with the camera than if it’s in 3D because the shadows are hard to detect and so it’s better to do it that way (heard an assistant say it))\n",
    "\n",
    "quick explication on what our setup looks like, the use of the colors with pitcures\n"
   ]
  },
  {
   "cell_type": "markdown",
   "metadata": {},
   "source": [
    "## Best Path Calculations KIKE\n",
    "\n",
    "short explication on what method used and why and how and quickly mention that it uses the info send by the CV picked up by the environment"
   ]
  },
  {
   "cell_type": "markdown",
   "metadata": {},
   "source": [
    "## Motion Control DIANA\n",
    "\n",
    "moving the Thymio along the given trajectory while knowing the thymio’s position (use of a proportional controller with the angle between the thymio’s orientation and the destination point)\n",
    "\n",
    "small descritption of the method used and why and what elements from the path needed\n"
   ]
  },
  {
   "cell_type": "markdown",
   "metadata": {},
   "source": [
    "## Obstacles avoidance EMILIE\n",
    "\n",
    "while the Thymio navigates, use of local navigation to avoid physical (3D) obstacles that can be put in its path at anytime (create hollow obstacles so they are not detected by the camera for the global navigation in the environment) —> use the exercise sessions on local navigation, adapt it to our case\n",
    "\n",
    "explication on what the obstacles look like, short description sans plus"
   ]
  },
  {
   "cell_type": "markdown",
   "metadata": {},
   "source": [
    "# Required Components "
   ]
  },
  {
   "cell_type": "markdown",
   "metadata": {},
   "source": [
    "## Computer Vision GARANCE\n",
    "\n",
    "use of the camera (placed above the environment) —> locate the environment (edges etc.), the static (2D) obstacles and the thymio\n",
    "\t—> only do image processing (quickly saw in an exercise session) and use the given file explaining what to do, how to extract and process the image data.\n",
    "\t—> use AR tags : the camera can practically do everything on it’s own\n",
    "\t—> ! the camera does not use the same parameters for macs and windows => the one doing this will be the only one\n",
    "\n",
    "\n",
    "details explications : step by step, accompagné by images and pieces of code of\n",
    "\n",
    "on how it's done, what  calculations used, what variables used, the form of the vision file(is it a class, just a fct ? why ?)\n",
    "\n",
    "++ add images to go with the description to illustrate the explications\n",
    "\n",
    "detail explications on the differents functions called and what their inputs are and what their outputs are (can be done in un tableau for example), explain their use and the goal of using them and when they are used (like it what function are they called etc )\n",
    "\n",
    "\n",
    "separation in several parts ? the computation of the position of thymio? the environment ? the obstacles ? the goal ?\n",
    "\n",
    "++ sources\n"
   ]
  },
  {
   "cell_type": "markdown",
   "metadata": {},
   "source": [
    "## Global Navigation KIKE\n",
    "\n",
    "use the location of the static obstacles given by the vision step and find the optimal path the thymio has to follow to reach the goal (no movement, just find the best trajectory)\n",
    "\t—> use of existing libraries !\n",
    "\n",
    "  \n",
    "details explications : step by step, accompagné by images(?)--> video showing the path followed ? and pieces of code of\n",
    "\n",
    "on how it's done, what  calculations used, what variables used, the form of the vision file(is it a class, just a fct ? why ?)\n",
    "\n",
    "++ add images or videos to go with the description to illustrate the explications\n",
    "\n",
    "detail explications on the differents functions called and what their inputs are and what their outputs are (can be done in un tableau for example), explain their use and the goal of using them and when they are used (like it what function are they called etc )\n",
    "\n",
    "\n",
    "separation in several parts ? the computation of the position of thymio? the environment ? the obstacles ? the goal ? how was the algo written and used ? what does it send to who (MC) \n",
    "--> the implementation, the algorithm, ...\n",
    "\n",
    "is it optimal ? yes ok, no, why ? \n",
    "\n",
    "++ sources\n"
   ]
  },
  {
   "cell_type": "markdown",
   "metadata": {},
   "source": [
    "## Motion Control DIANA\n",
    "\n",
    "use the trajectory given in the global navigation step to direct and move the thymio to the goal destination\n",
    "\t—> use of a P controller\n",
    "\n",
    "details explications : step by step, accompagné by images(?)--> video showing the path followed ? and pieces of code of\n",
    "\n",
    "on how it's done, what  calculations used, what variables used, the form of the vision file(is it a class, just a fct ? why ?)\n",
    "\n",
    "++ add images or videos to go with the description to illustrate the explications\n",
    "\n",
    "detail explications on the differents functions called and what their inputs are and what their outputs are (can be done in un tableau for example), explain their use and the goal of using them and when they are used (like it what function are they called etc )\n",
    "\n",
    "\n",
    "separation in several parts ? the computation of the position of thymio? the environment ? the obstacles ? the goal ? how was the algo written and used ? what does it send to who (MC) \n",
    "--> the implementation, the algorithm, ...\n",
    "\n",
    "is it optimal ? yes ok, no, why ? \n",
    "\n",
    "++ sources\n"
   ]
  },
  {
   "cell_type": "markdown",
   "metadata": {},
   "source": [
    "## Local Navigation\n",
    "  "
   ]
  },
  {
   "cell_type": "markdown",
   "metadata": {},
   "source": [
    "## Filtering"
   ]
  },
  {
   "cell_type": "markdown",
   "metadata": {},
   "source": [
    "# VIDEOS ? IMAGES ? LITTLE EXTRAS ?"
   ]
  },
  {
   "cell_type": "markdown",
   "metadata": {},
   "source": [
    "# Overall Project\n",
    "\n",
    "**do we have to put the main here ? or a code that called our main.py ? to be asked on tuesday maybe**"
   ]
  },
  {
   "cell_type": "markdown",
   "metadata": {},
   "source": [
    "# Conclusion\n",
    "\n",
    "**we need to write a conclusion**"
   ]
  },
  {
   "cell_type": "code",
   "execution_count": null,
   "metadata": {},
   "outputs": [],
   "source": [
    "\n"
   ]
  }
 ],
 "metadata": {
  "hide_input": false,
  "kernelspec": {
   "display_name": "Python 3 (ipykernel)",
   "language": "python",
   "name": "python3"
  },
  "language_info": {
   "codemirror_mode": {
    "name": "ipython",
    "version": 3
   },
   "file_extension": ".py",
   "mimetype": "text/x-python",
   "name": "python",
   "nbconvert_exporter": "python",
   "pygments_lexer": "ipython3",
   "version": "3.11.5"
  },
  "toc": {
   "base_numbering": 1,
   "nav_menu": {},
   "number_sections": true,
   "sideBar": true,
   "skip_h1_title": false,
   "title_cell": "Table of Contents",
   "title_sidebar": "Contents",
   "toc_cell": true,
   "toc_position": {
    "height": "calc(100% - 180px)",
    "left": "10px",
    "top": "150px",
    "width": "332.594px"
   },
   "toc_section_display": true,
   "toc_window_display": true
  }
 },
 "nbformat": 4,
 "nbformat_minor": 4
}
