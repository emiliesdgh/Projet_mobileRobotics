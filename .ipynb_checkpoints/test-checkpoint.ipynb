{
 "cells": [
  {
   "cell_type": "code",
   "execution_count": 1,
   "metadata": {},
   "outputs": [],
   "source": [
    "from tdmclient import ClientAsync\n",
    "from classes import Thymio\n",
    "import local_navigation_2"
   ]
  },
  {
   "cell_type": "code",
   "execution_count": 2,
   "metadata": {},
   "outputs": [],
   "source": [
    "client = ClientAsync()\n",
    "node = await client.wait_for_node()\n",
    "await node.lock()\n",
    "await node.wait_for_variables()"
   ]
  },
  {
   "cell_type": "code",
   "execution_count": 3,
   "metadata": {},
   "outputs": [],
   "source": [
    "Thym=Thymio()\n",
    "Thym.setPath([[0,0],[0,1]])\n",
    "test_functions=1"
   ]
  },
  {
   "cell_type": "code",
   "execution_count": 4,
   "metadata": {},
   "outputs": [],
   "source": [
    "local_navigation_2.test_the_fct1(Thym, node, client, test_functions)"
   ]
  },
  {
   "cell_type": "code",
   "execution_count": 5,
   "metadata": {},
   "outputs": [
    {
     "ename": "KeyboardInterrupt",
     "evalue": "",
     "output_type": "error",
     "traceback": [
      "\u001b[1;31m---------------------------------------------------------------------------\u001b[0m",
      "\u001b[1;31mKeyboardInterrupt\u001b[0m                         Traceback (most recent call last)",
      "\u001b[1;32mc:\\Users\\diana\\Desktop\\EPFL\\Basics of mobile robotics\\Project\\Projet_mobileRobotics\\test.ipynb Cell 5\u001b[0m line \u001b[0;36m1\n\u001b[1;32m----> <a href='vscode-notebook-cell:/c%3A/Users/diana/Desktop/EPFL/Basics%20of%20mobile%20robotics/Project/Projet_mobileRobotics/test.ipynb#W4sZmlsZQ%3D%3D?line=0'>1</a>\u001b[0m local_navigation_2\u001b[39m.\u001b[39;49mobstacle_avoidance(Thym, client, node)\n",
      "File \u001b[1;32mc:\\Users\\diana\\Desktop\\EPFL\\Basics of mobile robotics\\Project\\Projet_mobileRobotics\\local_navigation_2.py:172\u001b[0m, in \u001b[0;36mobstacle_avoidance\u001b[1;34m(Thymio, client, node, motor_speed, obs_threshold, verbose)\u001b[0m\n\u001b[0;32m    169\u001b[0m                     \u001b[39m#client.sleep(2)\u001b[39;00m\n\u001b[0;32m    170\u001b[0m                     obs_avoided \u001b[39m=\u001b[39m \u001b[39mTrue\u001b[39;00m\n\u001b[1;32m--> 172\u001b[0m     aw(client\u001b[39m.\u001b[39;49msleep(\u001b[39m0.1\u001b[39;49m)) \u001b[39m#otherwise, variables would not be updated\u001b[39;00m\n\u001b[0;32m    173\u001b[0m     \u001b[39m#client.sleep(0.1)\u001b[39;00m\n\u001b[0;32m    174\u001b[0m \u001b[39mreturn\u001b[39;00m\n",
      "File \u001b[1;32mc:\\Users\\diana\\AppData\\Local\\Programs\\Python\\Python311\\Lib\\site-packages\\tdmclient\\clientasync.py:214\u001b[0m, in \u001b[0;36mClientAsync.aw\u001b[1;34m(co)\u001b[0m\n\u001b[0;32m    211\u001b[0m     \u001b[39mnonlocal\u001b[39;00m r\n\u001b[0;32m    212\u001b[0m     r \u001b[39m=\u001b[39m \u001b[39mawait\u001b[39;00m co\n\u001b[1;32m--> 214\u001b[0m ClientAsync\u001b[39m.\u001b[39;49mrun_async_program(prog)\n\u001b[0;32m    215\u001b[0m \u001b[39mreturn\u001b[39;00m r\n",
      "File \u001b[1;32mc:\\Users\\diana\\AppData\\Local\\Programs\\Python\\Python311\\Lib\\site-packages\\tdmclient\\clientasync.py:199\u001b[0m, in \u001b[0;36mClientAsync.run_async_program\u001b[1;34m(prog)\u001b[0m\n\u001b[0;32m    197\u001b[0m \u001b[39mtry\u001b[39;00m:\n\u001b[0;32m    198\u001b[0m     \u001b[39mwhile\u001b[39;00m \u001b[39mTrue\u001b[39;00m:\n\u001b[1;32m--> 199\u001b[0m         co\u001b[39m.\u001b[39msend(\u001b[39mNone\u001b[39;00m)\n\u001b[0;32m    200\u001b[0m \u001b[39mexcept\u001b[39;00m \u001b[39mStopIteration\u001b[39;00m:\n\u001b[0;32m    201\u001b[0m     \u001b[39mpass\u001b[39;00m\n",
      "File \u001b[1;32mc:\\Users\\diana\\AppData\\Local\\Programs\\Python\\Python311\\Lib\\site-packages\\tdmclient\\clientasync.py:212\u001b[0m, in \u001b[0;36mClientAsync.aw.<locals>.prog\u001b[1;34m()\u001b[0m\n\u001b[0;32m    210\u001b[0m \u001b[39masync\u001b[39;00m \u001b[39mdef\u001b[39;00m \u001b[39mprog\u001b[39m():\n\u001b[0;32m    211\u001b[0m     \u001b[39mnonlocal\u001b[39;00m r\n\u001b[1;32m--> 212\u001b[0m     r \u001b[39m=\u001b[39m \u001b[39mawait\u001b[39;00m co\n",
      "File \u001b[1;32mc:\\Users\\diana\\AppData\\Local\\Programs\\Python\\Python311\\Lib\\site-packages\\tdmclient\\clientasync.py:67\u001b[0m, in \u001b[0;36mClientAsync.sleep\u001b[1;34m(self, duration, wake)\u001b[0m\n\u001b[0;32m     65\u001b[0m \u001b[39mwhile\u001b[39;00m duration \u001b[39m<\u001b[39m \u001b[39m0\u001b[39m \u001b[39mor\u001b[39;00m monotonic() \u001b[39m<\u001b[39m t0 \u001b[39m+\u001b[39m duration:\n\u001b[0;32m     66\u001b[0m     \u001b[39mself\u001b[39m\u001b[39m.\u001b[39mprocess_waiting_messages()\n\u001b[1;32m---> 67\u001b[0m     sleep(\u001b[39mself\u001b[39m\u001b[39m.\u001b[39mDEFAULT_SLEEP\n\u001b[0;32m     68\u001b[0m           \u001b[39mif\u001b[39;00m duration \u001b[39m<\u001b[39m \u001b[39m0\u001b[39m\n\u001b[0;32m     69\u001b[0m           \u001b[39melse\u001b[39;00m \u001b[39mmax\u001b[39m(\u001b[39mmin\u001b[39m(\u001b[39mself\u001b[39m\u001b[39m.\u001b[39mDEFAULT_SLEEP, t0 \u001b[39m+\u001b[39m duration \u001b[39m-\u001b[39m monotonic()),\n\u001b[0;32m     70\u001b[0m                    \u001b[39mself\u001b[39m\u001b[39m.\u001b[39mDEFAULT_SLEEP \u001b[39m/\u001b[39m \u001b[39m1e3\u001b[39m))\n\u001b[0;32m     71\u001b[0m     \u001b[39mif\u001b[39;00m wake \u001b[39mis\u001b[39;00m \u001b[39mnot\u001b[39;00m \u001b[39mNone\u001b[39;00m \u001b[39mand\u001b[39;00m wake():\n\u001b[0;32m     72\u001b[0m         \u001b[39mbreak\u001b[39;00m\n",
      "\u001b[1;31mKeyboardInterrupt\u001b[0m: "
     ]
    }
   ],
   "source": [
    "local_navigation_2.obstacle_avoidance(Thym, client, node)"
   ]
  }
 ],
 "metadata": {
  "kernelspec": {
   "display_name": "Python 3",
   "language": "python",
   "name": "python3"
  },
  "language_info": {
   "codemirror_mode": {
    "name": "ipython",
    "version": 3
   },
   "file_extension": ".py",
   "mimetype": "text/x-python",
   "name": "python",
   "nbconvert_exporter": "python",
   "pygments_lexer": "ipython3",
   "version": "3.11.5"
  }
 },
 "nbformat": 4,
 "nbformat_minor": 2
}
