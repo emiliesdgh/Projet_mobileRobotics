{
 "cells": [
  {
   "cell_type": "code",
   "execution_count": 1,
   "metadata": {
    "tags": []
   },
   "outputs": [],
   "source": [
    "from tdmclient import ClientAsync\n",
    "from classes import Thymio\n",
    "import local_navigation_2\n",
    "import local_navigation\n",
    "import motion_control\n",
    "import numpy as np"
   ]
  },
  {
   "cell_type": "code",
   "execution_count": 2,
   "metadata": {
    "tags": []
   },
   "outputs": [],
   "source": [
    "client = ClientAsync()\n",
    "node = await client.wait_for_node()\n",
    "await node.lock()\n",
    "await node.wait_for_variables()"
   ]
  },
  {
   "cell_type": "code",
   "execution_count": 3,
   "metadata": {
    "tags": []
   },
   "outputs": [
    {
     "name": "stdout",
     "output_type": "stream",
     "text": [
      "[0. 5.]\n"
     ]
    }
   ],
   "source": [
    "Thym=Thymio()\n",
    "Thym.setPath([[0,0],[0,10],[2,50]])\n",
    "current_pos1_y=np.linspace(0,10,3)\n",
    "current_pos1_arr=[[0,y] for y in current_pos1_y]\n",
    "current_pos2_x=np.linspace(0,2,3)\n",
    "current_pos2_y=np.linspace(10,50,3)\n",
    "current_pos2_arr=[[current_pos2_x[i],current_pos2_y[i]] for i in range(3)]\n",
    "current_pos_arr= np.vstack((current_pos1_arr, current_pos2_arr))\n",
    "current_angle=np.linspace(0,2*np.pi,720)\n",
    "print(current_pos_arr[1])\n",
    "test_functions=1"
   ]
  },
  {
   "cell_type": "code",
   "execution_count": 4,
   "metadata": {
    "tags": []
   },
   "outputs": [
    {
     "ename": "KeyboardInterrupt",
     "evalue": "",
     "output_type": "error",
     "traceback": [
      "\u001b[1;31m---------------------------------------------------------------------------\u001b[0m",
      "\u001b[1;31mKeyboardInterrupt\u001b[0m                         Traceback (most recent call last)",
      "\u001b[1;32mc:\\Users\\diana\\Desktop\\EPFL\\Basics of mobile robotics\\Project\\Projet_mobileRobotics\\test.ipynb Cell 4\u001b[0m line \u001b[0;36m5\n\u001b[0;32m      <a href='vscode-notebook-cell:/c%3A/Users/diana/Desktop/EPFL/Basics%20of%20mobile%20robotics/Project/Projet_mobileRobotics/test.ipynb#W3sZmlsZQ%3D%3D?line=2'>3</a>\u001b[0m \u001b[39mfor\u001b[39;00m angle \u001b[39min\u001b[39;00m current_angle:    \n\u001b[0;32m      <a href='vscode-notebook-cell:/c%3A/Users/diana/Desktop/EPFL/Basics%20of%20mobile%20robotics/Project/Projet_mobileRobotics/test.ipynb#W3sZmlsZQ%3D%3D?line=3'>4</a>\u001b[0m     \u001b[39mif\u001b[39;00m \u001b[39mnot\u001b[39;00m Thym\u001b[39m.\u001b[39mgoal_reached_t:\n\u001b[1;32m----> <a href='vscode-notebook-cell:/c%3A/Users/diana/Desktop/EPFL/Basics%20of%20mobile%20robotics/Project/Projet_mobileRobotics/test.ipynb#W3sZmlsZQ%3D%3D?line=4'>5</a>\u001b[0m         motion_control\u001b[39m.\u001b[39;49mturn(angle,Thym,node)\n\u001b[0;32m      <a href='vscode-notebook-cell:/c%3A/Users/diana/Desktop/EPFL/Basics%20of%20mobile%20robotics/Project/Projet_mobileRobotics/test.ipynb#W3sZmlsZQ%3D%3D?line=5'>6</a>\u001b[0m     \u001b[39mif\u001b[39;00m Thym\u001b[39m.\u001b[39mgoal_reached_t \u001b[39mand\u001b[39;00m \u001b[39mnot\u001b[39;00m Thym\u001b[39m.\u001b[39mgoal_reached_f:\n\u001b[0;32m      <a href='vscode-notebook-cell:/c%3A/Users/diana/Desktop/EPFL/Basics%20of%20mobile%20robotics/Project/Projet_mobileRobotics/test.ipynb#W3sZmlsZQ%3D%3D?line=6'>7</a>\u001b[0m         motion_control\u001b[39m.\u001b[39mgo_to_next_point(\u001b[39m0\u001b[39m,current_pos_arr[i],\u001b[39m0\u001b[39m,Thym,node)\n",
      "File \u001b[1;32mc:\\Users\\diana\\Desktop\\EPFL\\Basics of mobile robotics\\Project\\Projet_mobileRobotics\\motion_control.py:36\u001b[0m, in \u001b[0;36mturn\u001b[1;34m(current_angle, robot, node)\u001b[0m\n\u001b[0;32m     34\u001b[0m speed\u001b[39m=\u001b[39m\u001b[39mmin\u001b[39m(MAX_SPEED, \u001b[39mmax\u001b[39m(\u001b[39m-\u001b[39mMAX_SPEED, PIDcontrol(error,robot)))\n\u001b[0;32m     35\u001b[0m robot\u001b[39m.\u001b[39msetSpeedRight(speed,node)\n\u001b[1;32m---> 36\u001b[0m robot\u001b[39m.\u001b[39;49msetSpeedLeft(\u001b[39m-\u001b[39;49mspeed,node)\n",
      "File \u001b[1;32mc:\\Users\\diana\\Desktop\\EPFL\\Basics of mobile robotics\\Project\\Projet_mobileRobotics\\classes.py:78\u001b[0m, in \u001b[0;36mThymio.setSpeedLeft\u001b[1;34m(self, speed, node)\u001b[0m\n\u001b[0;32m     76\u001b[0m \u001b[39mdef\u001b[39;00m \u001b[39msetSpeedLeft\u001b[39m(\u001b[39mself\u001b[39m,speed,node):\n\u001b[0;32m     77\u001b[0m     \u001b[39mself\u001b[39m\u001b[39m.\u001b[39mmotor_target_left\u001b[39m=\u001b[39mspeed\n\u001b[1;32m---> 78\u001b[0m     aw(node\u001b[39m.\u001b[39;49mset_variables({\u001b[39m\"\u001b[39;49m\u001b[39mmotor.left.target\u001b[39;49m\u001b[39m\"\u001b[39;49m: [speed]}))\n",
      "File \u001b[1;32mc:\\Users\\diana\\AppData\\Local\\Programs\\Python\\Python311\\Lib\\site-packages\\tdmclient\\clientasync.py:214\u001b[0m, in \u001b[0;36mClientAsync.aw\u001b[1;34m(co)\u001b[0m\n\u001b[0;32m    211\u001b[0m     \u001b[39mnonlocal\u001b[39;00m r\n\u001b[0;32m    212\u001b[0m     r \u001b[39m=\u001b[39m \u001b[39mawait\u001b[39;00m co\n\u001b[1;32m--> 214\u001b[0m ClientAsync\u001b[39m.\u001b[39;49mrun_async_program(prog)\n\u001b[0;32m    215\u001b[0m \u001b[39mreturn\u001b[39;00m r\n",
      "File \u001b[1;32mc:\\Users\\diana\\AppData\\Local\\Programs\\Python\\Python311\\Lib\\site-packages\\tdmclient\\clientasync.py:199\u001b[0m, in \u001b[0;36mClientAsync.run_async_program\u001b[1;34m(prog)\u001b[0m\n\u001b[0;32m    197\u001b[0m \u001b[39mtry\u001b[39;00m:\n\u001b[0;32m    198\u001b[0m     \u001b[39mwhile\u001b[39;00m \u001b[39mTrue\u001b[39;00m:\n\u001b[1;32m--> 199\u001b[0m         co\u001b[39m.\u001b[39msend(\u001b[39mNone\u001b[39;00m)\n\u001b[0;32m    200\u001b[0m \u001b[39mexcept\u001b[39;00m \u001b[39mStopIteration\u001b[39;00m:\n\u001b[0;32m    201\u001b[0m     \u001b[39mpass\u001b[39;00m\n",
      "File \u001b[1;32mc:\\Users\\diana\\AppData\\Local\\Programs\\Python\\Python311\\Lib\\site-packages\\tdmclient\\clientasync.py:212\u001b[0m, in \u001b[0;36mClientAsync.aw.<locals>.prog\u001b[1;34m()\u001b[0m\n\u001b[0;32m    210\u001b[0m \u001b[39masync\u001b[39;00m \u001b[39mdef\u001b[39;00m \u001b[39mprog\u001b[39m():\n\u001b[0;32m    211\u001b[0m     \u001b[39mnonlocal\u001b[39;00m r\n\u001b[1;32m--> 212\u001b[0m     r \u001b[39m=\u001b[39m \u001b[39mawait\u001b[39;00m co\n",
      "File \u001b[1;32mc:\\Users\\diana\\AppData\\Local\\Programs\\Python\\Python311\\Lib\\site-packages\\tdmclient\\clientasyncnode.py:96\u001b[0m, in \u001b[0;36mClientAsyncNode.set_variables\u001b[1;34m(self, var_dict)\u001b[0m\n\u001b[0;32m     94\u001b[0m \u001b[39m@types\u001b[39m\u001b[39m.\u001b[39mcoroutine\n\u001b[0;32m     95\u001b[0m \u001b[39mdef\u001b[39;00m \u001b[39mset_variables\u001b[39m(\u001b[39mself\u001b[39m, var_dict):\n\u001b[1;32m---> 96\u001b[0m     result \u001b[39m=\u001b[39m \u001b[39myield from\u001b[39;00m \u001b[39mself\u001b[39m\u001b[39m.\u001b[39mthymio\u001b[39m.\u001b[39msend_msg_and_get_result(\n\u001b[0;32m     97\u001b[0m         \u001b[39mlambda\u001b[39;00m notify:\n\u001b[0;32m     98\u001b[0m             \u001b[39mself\u001b[39m\u001b[39m.\u001b[39msend_set_variables(var_dict, request_id_notify\u001b[39m=\u001b[39mnotify)\n\u001b[0;32m     99\u001b[0m     )\n\u001b[0;32m    100\u001b[0m     \u001b[39mreturn\u001b[39;00m result\n",
      "File \u001b[1;32mc:\\Users\\diana\\AppData\\Local\\Programs\\Python\\Python311\\Lib\\site-packages\\tdmclient\\clientasync.py:176\u001b[0m, in \u001b[0;36mClientAsync.send_msg_and_get_result\u001b[1;34m(self, send_fun)\u001b[0m\n\u001b[0;32m    174\u001b[0m \u001b[39mwhile\u001b[39;00m \u001b[39mnot\u001b[39;00m done:\n\u001b[0;32m    175\u001b[0m     \u001b[39myield\u001b[39;00m\n\u001b[1;32m--> 176\u001b[0m     sleep(\u001b[39mself\u001b[39m\u001b[39m.\u001b[39mDEFAULT_SLEEP)\n\u001b[0;32m    177\u001b[0m     \u001b[39mself\u001b[39m\u001b[39m.\u001b[39mprocess_waiting_messages()\n\u001b[0;32m    178\u001b[0m \u001b[39mreturn\u001b[39;00m result\n",
      "\u001b[1;31mKeyboardInterrupt\u001b[0m: "
     ]
    }
   ],
   "source": [
    "for i in range(6):\n",
    "\n",
    "    for angle in current_angle:    \n",
    "        if not Thym.goal_reached_t:\n",
    "            motion_control.turn(angle,Thym,node)\n",
    "        if Thym.goal_reached_t and not Thym.goal_reached_f:\n",
    "            motion_control.go_to_next_point(0,current_pos_arr[i],0,Thym,node)"
   ]
  },
  {
   "cell_type": "code",
   "execution_count": 6,
   "metadata": {},
   "outputs": [
    {
     "data": {
      "text/plain": [
       "4.71238898038469"
      ]
     },
     "execution_count": 6,
     "metadata": {},
     "output_type": "execute_result"
    }
   ],
   "source": [
    "Thym.setSpeedLeft(0,node)\n",
    "Thym.setSpeedRight(0,node)\n",
    "Thym.goal_angle"
   ]
  },
  {
   "cell_type": "code",
   "execution_count": 6,
   "metadata": {},
   "outputs": [],
   "source": [
    "#local_navigation_2.test_the_fct4(Thym, node, client, obs_threshold=500, verbose=False)"
   ]
  },
  {
   "cell_type": "code",
   "execution_count": 7,
   "metadata": {
    "tags": []
   },
   "outputs": [],
   "source": [
    "#local_navigation_2.obstacle_avoidance(Thym, node, client, motor_speed=100, obs_threshold=500, verbose=False)"
   ]
  },
  {
   "cell_type": "code",
   "execution_count": 8,
   "metadata": {},
   "outputs": [
    {
     "name": "stdout",
     "output_type": "stream",
     "text": [
      "0\n",
      "2446\n",
      "\t COUNTEEERRR Counterclockwise\n"
     ]
    }
   ],
   "source": [
    "local_navigation.obstacle_avoidance(Thym, node, client, motor_speed=100, obs_threshold=500)"
   ]
  },
  {
   "cell_type": "code",
   "execution_count": null,
   "metadata": {},
   "outputs": [],
   "source": []
  }
 ],
 "metadata": {
  "kernelspec": {
   "display_name": "Python 3 (ipykernel)",
   "language": "python",
   "name": "python3"
  },
  "language_info": {
   "codemirror_mode": {
    "name": "ipython",
    "version": 3
   },
   "file_extension": ".py",
   "mimetype": "text/x-python",
   "name": "python",
   "nbconvert_exporter": "python",
   "pygments_lexer": "ipython3",
   "version": "3.11.5"
  }
 },
 "nbformat": 4,
 "nbformat_minor": 4
}
